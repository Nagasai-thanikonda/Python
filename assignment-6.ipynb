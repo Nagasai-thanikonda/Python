{
 "cells": [
  {
   "cell_type": "markdown",
   "id": "091f6050-99b9-4ac5-9fe2-cc58c9b572a9",
   "metadata": {},
   "source": [
    "# assignment-6"
   ]
  },
  {
   "cell_type": "markdown",
   "id": "11627b56-4495-4af0-84de-0646b265de5f",
   "metadata": {},
   "source": [
    "- case-1"
   ]
  },
  {
   "cell_type": "code",
   "execution_count": 8,
   "id": "b594303d-b338-4fbe-a62e-405653d374b3",
   "metadata": {},
   "outputs": [
    {
     "name": "stdout",
     "output_type": "stream",
     "text": [
      "1400\n"
     ]
    }
   ],
   "source": [
    "\n",
    "def addition(n1,n2=900):\n",
    "    add=n1+n2\n",
    "    print(add)\n",
    "addition(500)\n",
    "#define the function \n",
    "#whie define the function we give n2 value=900\n",
    "#calling the function\n",
    "#whie define the function we give n1 value=500\n",
    "#n1+n2=1400"
   ]
  },
  {
   "cell_type": "markdown",
   "id": "4fc037aa-0054-416b-94cb-850b7003055e",
   "metadata": {},
   "source": [
    "- case-2"
   ]
  },
  {
   "cell_type": "code",
   "execution_count": 9,
   "id": "8b242cff-6080-4ee5-bcb8-8cdeb4079aca",
   "metadata": {},
   "outputs": [
    {
     "name": "stdout",
     "output_type": "stream",
     "text": [
      "1500\n"
     ]
    }
   ],
   "source": [
    "\n",
    "def addition(n1,n2=900):\n",
    "    add=n1+n2\n",
    "    print(add)\n",
    "addition(500,1000)\n",
    "#define the function \n",
    "#whie define the function we give n2 value=900\n",
    "#calling the function\n",
    "#whie define the function we give n1 value=500,n2=1000\n",
    "#n1+n2=1500"
   ]
  },
  {
   "cell_type": "markdown",
   "id": "5a07fd3d-fe6a-490d-b9f3-dd354670cf13",
   "metadata": {},
   "source": [
    "- case-3"
   ]
  },
  {
   "cell_type": "code",
   "execution_count": 10,
   "id": "7ff4fbdf-4313-4fcb-a46b-0e7988c76c0d",
   "metadata": {},
   "outputs": [
    {
     "name": "stdout",
     "output_type": "stream",
     "text": [
      "2500\n"
     ]
    }
   ],
   "source": [
    "\n",
    "def addition(n1,n2=900):#n1=500,n2=900\n",
    "    n2=2000             \n",
    "    add=n1+n2\n",
    "    print(add)\n",
    "addition(500,1000)\n",
    "#define the function \n",
    "#whie define the function we give n2 value=900\n",
    "#calling the function\n",
    "#whie call the function we give n2 value=1000\n",
    "#whie running  the function we give n2 value=2000\n",
    "#n1+n2=2500"
   ]
  },
  {
   "cell_type": "markdown",
   "id": "309e5c1b-005c-490b-ac95-046cf567c27f",
   "metadata": {},
   "source": [
    "- case-4"
   ]
  },
  {
   "cell_type": "code",
   "execution_count": 11,
   "id": "9109cd78-0c86-46bd-9fba-16fbda667518",
   "metadata": {},
   "outputs": [
    {
     "name": "stdout",
     "output_type": "stream",
     "text": [
      "8500\n"
     ]
    }
   ],
   "source": [
    "\n",
    "def addition(n11,n21=900):#n11=500,n21=900\n",
    "    n21=8000             \n",
    "    add=n11+n21\n",
    "    print(add)\n",
    "n21=600\n",
    "addition(500,1000)\n",
    "#define the function \n",
    "#whie define the function we give n2 value=900\n",
    "#calling the function\n",
    "#whie call the function we give n2 value=1000\n",
    "#whie running  the function we give n2 value=8000\n",
    "#n1+n2=8500"
   ]
  },
  {
   "cell_type": "markdown",
   "id": "020a18bd-ae45-4f2c-8de9-3f4b42a96eb8",
   "metadata": {},
   "source": [
    "- case-5"
   ]
  },
  {
   "cell_type": "code",
   "execution_count": 12,
   "id": "d520ed8c-2211-4bbe-8c95-7978985ec80b",
   "metadata": {},
   "outputs": [
    {
     "name": "stdout",
     "output_type": "stream",
     "text": [
      "1600\n"
     ]
    }
   ],
   "source": [
    "n11=900\n",
    "n22=800\n",
    "def addition(n11=900):          \n",
    "    add=n11+n22\n",
    "    print(add)\n",
    "addition(800)\n",
    "#intialize the global variable n11=900,n22=800\n",
    "#define the function n22=900\n",
    "##calling the function n1=800"
   ]
  },
  {
   "cell_type": "markdown",
   "id": "f0ce1462-64e9-4a52-9b63-12e345b7acea",
   "metadata": {},
   "source": [
    "- case-6"
   ]
  },
  {
   "cell_type": "code",
   "execution_count": 13,
   "id": "49ea4c5c-aa82-487d-8215-69bfd88e06a8",
   "metadata": {},
   "outputs": [
    {
     "name": "stdout",
     "output_type": "stream",
     "text": [
      "2700\n"
     ]
    }
   ],
   "source": [
    "a11=900\n",
    "b22=800\n",
    "def addition1(a11=900,b22=800):          \n",
    "    add=a11+b22\n",
    "    print(add)\n",
    "addition1(a11=2000,b22=700)\n",
    "#intialize the global variable a11=900,b22=800\n",
    "#define the function a11=900\n",
    "##calling the function"
   ]
  },
  {
   "cell_type": "markdown",
   "id": "1d7113e3-f193-47c4-b7b2-65dd089ba819",
   "metadata": {},
   "source": [
    "- case-7"
   ]
  },
  {
   "cell_type": "code",
   "execution_count": 14,
   "id": "4d5111a4-d42b-4d7b-97df-1c9da9be0f0c",
   "metadata": {},
   "outputs": [
    {
     "name": "stdout",
     "output_type": "stream",
     "text": [
      "5800\n"
     ]
    }
   ],
   "source": [
    "c11=900\n",
    "d22=800\n",
    "def addition1(c11=600):          \n",
    "    add3=c11+d22\n",
    "    print(add3)\n",
    "addition1(c11=5000)\n",
    "#intialize the global variable c11=900,d22=800\n",
    "#define the function c11=600\n",
    "##calling the function c11=5000"
   ]
  },
  {
   "cell_type": "markdown",
   "id": "5f7830b4-fa07-4829-856f-9b396f378e07",
   "metadata": {},
   "source": [
    "- case-8"
   ]
  },
  {
   "cell_type": "code",
   "execution_count": 15,
   "id": "003dcb98-ee1e-40e9-9000-a543ee02336f",
   "metadata": {},
   "outputs": [
    {
     "name": "stdout",
     "output_type": "stream",
     "text": [
      "1200\n"
     ]
    }
   ],
   "source": [
    "#case-8\n",
    "c11=900\n",
    "d22=800\n",
    "def addition1(c11=6000):          \n",
    "    c11=400\n",
    "    add3=c11+d22\n",
    "    print(add3)\n",
    "addition1(c11=5000)\n",
    "#intialize the global variable c11=900,d22=800\n",
    "#define the function c11=600\n",
    "#calling the function c11=5000\n",
    "#running the function c11=400"
   ]
  },
  {
   "cell_type": "markdown",
   "id": "32bf24e8-a5f5-4436-92a6-e55f4f322934",
   "metadata": {},
   "source": [
    "- case-9"
   ]
  },
  {
   "cell_type": "code",
   "execution_count": 16,
   "id": "90580f7e-51fb-4453-aa4d-66525db5a286",
   "metadata": {},
   "outputs": [
    {
     "name": "stdout",
     "output_type": "stream",
     "text": [
      "4800\n"
     ]
    }
   ],
   "source": [
    "c11=900\n",
    "d22=800\n",
    "def addition1(c11=6000):          \n",
    "    c11=4000\n",
    "    add3=c11+d22\n",
    "    print(add3)\n",
    "c11=600\n",
    "addition1(c11=5000)\n",
    "#intialize the global variable c11=900,d22=800\n",
    "#define the function c11=600\n",
    "#calling the function c11=5000\n",
    "#running the function c11=400"
   ]
  },
  {
   "cell_type": "markdown",
   "id": "eabcfcaa-4459-46e2-9170-f26aeb092fb1",
   "metadata": {},
   "source": [
    "- case-10"
   ]
  },
  {
   "cell_type": "code",
   "execution_count": 17,
   "id": "dcfa1e32-6eef-4a1e-a59c-33a3ec035a69",
   "metadata": {},
   "outputs": [
    {
     "name": "stdout",
     "output_type": "stream",
     "text": [
      "6800\n"
     ]
    }
   ],
   "source": [
    "d22=800\n",
    "def addition1():          \n",
    "    add3=c11+d22\n",
    "    print(add3)\n",
    "c11=6000\n",
    "addition1()\n",
    "#intialize the global variable d22=800\n",
    "#running the function c11=6000\n",
    "#c11+d22=6800"
   ]
  },
  {
   "cell_type": "markdown",
   "id": "bb201dcc-045d-4169-be93-89cd28769517",
   "metadata": {},
   "source": [
    "- case-11"
   ]
  },
  {
   "cell_type": "code",
   "execution_count": 18,
   "id": "1fd22c31-3b55-4f93-8bf8-b37de7b4b74d",
   "metadata": {},
   "outputs": [
    {
     "name": "stdout",
     "output_type": "stream",
     "text": [
      "7000\n"
     ]
    }
   ],
   "source": [
    "f22=800\n",
    "def thor():\n",
    "    f22=7000\n",
    "    print(f22)\n",
    "thor()\n",
    "#intialize the global variable f22=800\n",
    "#define the function f22=7000\n",
    "#calling the function \n",
    "#running the function "
   ]
  },
  {
   "cell_type": "markdown",
   "id": "31a47f20-a172-42c1-a2d7-c7a9892ec9d5",
   "metadata": {},
   "source": [
    "- case-12"
   ]
  },
  {
   "cell_type": "code",
   "execution_count": 19,
   "id": "08a0b062-e753-4871-b4e3-d01e063a7b54",
   "metadata": {},
   "outputs": [
    {
     "name": "stdout",
     "output_type": "stream",
     "text": [
      "7900\n"
     ]
    }
   ],
   "source": [
    "x22=800\n",
    "def thor_rangarok():\n",
    "    x22=7000\n",
    "    thor_rangarok56=x22+a44\n",
    "    print(thor_rangarok56)\n",
    "a44=900\n",
    "thor_rangarok()\n",
    "#intialize the global variable f22=800\n",
    "#define the function x22=7000\n",
    "#calling the function \n",
    "#running the function #a44=900,x22=7000"
   ]
  }
 ],
 "metadata": {
  "kernelspec": {
   "display_name": "Python 3 (ipykernel)",
   "language": "python",
   "name": "python3"
  },
  "language_info": {
   "codemirror_mode": {
    "name": "ipython",
    "version": 3
   },
   "file_extension": ".py",
   "mimetype": "text/x-python",
   "name": "python",
   "nbconvert_exporter": "python",
   "pygments_lexer": "ipython3",
   "version": "3.11.7"
  }
 },
 "nbformat": 4,
 "nbformat_minor": 5
}
