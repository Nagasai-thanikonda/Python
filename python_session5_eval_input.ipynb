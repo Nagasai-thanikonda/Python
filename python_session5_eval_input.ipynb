{
 "cells": [
  {
   "cell_type": "code",
   "execution_count": 1,
   "id": "2cda56ba-4cfc-42e3-8456-62bf33bb204f",
   "metadata": {},
   "outputs": [
    {
     "name": "stdin",
     "output_type": "stream",
     "text": [
      " 100\n"
     ]
    },
    {
     "data": {
      "text/plain": [
       "'100'"
      ]
     },
     "execution_count": 1,
     "metadata": {},
     "output_type": "execute_result"
    }
   ],
   "source": [
    "input()"
   ]
  },
  {
   "cell_type": "code",
   "execution_count": 3,
   "id": "1d82a743-9382-4bbc-8fed-a19aae76183f",
   "metadata": {},
   "outputs": [
    {
     "name": "stdin",
     "output_type": "stream",
     "text": [
      "enter the number: 100\n"
     ]
    },
    {
     "data": {
      "text/plain": [
       "'100'"
      ]
     },
     "execution_count": 3,
     "metadata": {},
     "output_type": "execute_result"
    }
   ],
   "source": [
    "input(\"enter the number:\")"
   ]
  },
  {
   "cell_type": "code",
   "execution_count": 7,
   "id": "f3480837-6087-448e-9909-cc31b8fe979a",
   "metadata": {},
   "outputs": [
    {
     "name": "stdin",
     "output_type": "stream",
     "text": [
      "enter the number1: 10\n",
      "enter the number2: 20\n",
      "enter the number3: 30\n"
     ]
    },
    {
     "name": "stdout",
     "output_type": "stream",
     "text": [
      "the average of 10,20 and 30 is 20.0\n"
     ]
    }
   ],
   "source": [
    "num1=eval(input(\"enter the number1:\"))\n",
    "num2=eval(input(\"enter the number2:\"))\n",
    "num3=eval(input(\"enter the number3:\"))\n",
    "average=(num1+num2+num3)/3\n",
    "print(f\"the average of {num1},{num2} and {num3} is {average}\")"
   ]
  },
  {
   "cell_type": "code",
   "execution_count": 8,
   "id": "04671fbd-feef-449c-a99d-46ab4c6fd992",
   "metadata": {},
   "outputs": [
    {
     "name": "stdin",
     "output_type": "stream",
     "text": [
      "enter the number1: 10\n",
      "enter the number2: 20\n"
     ]
    },
    {
     "name": "stdout",
     "output_type": "stream",
     "text": [
      "the addition of10 and 20 is 30\n"
     ]
    }
   ],
   "source": [
    "num1=eval(input(\"enter the number1:\"))\n",
    "num2=eval(input(\"enter the number2:\"))\n",
    "add=num1+num2\n",
    "print(f\"the addition of{num1} and {num2} is {add}\")"
   ]
  },
  {
   "cell_type": "code",
   "execution_count": 12,
   "id": "2b6a35b2-da74-4498-bff3-ffbaa99ffe9a",
   "metadata": {},
   "outputs": [
    {
     "name": "stdin",
     "output_type": "stream",
     "text": [
      "enter the number1: 10\n",
      "enter the number2: 3.14\n"
     ]
    },
    {
     "name": "stdout",
     "output_type": "stream",
     "text": [
      "the area of triangle is 314.0\n"
     ]
    }
   ],
   "source": [
    "radius=eval(input(\"enter the number1:\"))\n",
    "pi=eval(input(\"enter the number2:\"))\n",
    "area_triangle=pi*radius*radius\n",
    "print(f\"the area of triangle is {area_triangle}\")\n"
   ]
  },
  {
   "cell_type": "code",
   "execution_count": 3,
   "id": "44f51613-b8f2-434e-9d0d-fee3fe196bc8",
   "metadata": {},
   "outputs": [
    {
     "name": "stdout",
     "output_type": "stream",
     "text": [
      " the summ of300\n"
     ]
    }
   ],
   "source": [
    "num1=100\n",
    "num2=200\n",
    "add=num1+num2\n",
    "print(f\" the summ of{add}\")"
   ]
  },
  {
   "cell_type": "markdown",
   "id": "22d138ce-cf8c-4d9e-9c6a-78a2e9bac2a9",
   "metadata": {},
   "source": [
    "$input$"
   ]
  },
  {
   "cell_type": "markdown",
   "id": "55d75135-6847-42f4-a664-38fb9c7118cd",
   "metadata": {},
   "source": [
    "** input keywords is used to take the values from user**"
   ]
  },
  {
   "cell_type": "code",
   "execution_count": 4,
   "id": "ace37880-7433-446e-964c-a8198afb7fec",
   "metadata": {},
   "outputs": [
    {
     "name": "stdin",
     "output_type": "stream",
     "text": [
      " 2\n"
     ]
    },
    {
     "data": {
      "text/plain": [
       "'2'"
      ]
     },
     "execution_count": 4,
     "metadata": {},
     "output_type": "execute_result"
    }
   ],
   "source": [
    "input( )"
   ]
  },
  {
   "cell_type": "code",
   "execution_count": 5,
   "id": "52848f06-4399-4981-9c82-a4203eee42fd",
   "metadata": {},
   "outputs": [
    {
     "name": "stdin",
     "output_type": "stream",
     "text": [
      "enter the number1: 1\n"
     ]
    },
    {
     "data": {
      "text/plain": [
       "'1'"
      ]
     },
     "execution_count": 5,
     "metadata": {},
     "output_type": "execute_result"
    }
   ],
   "source": [
    "input('enter the number1:')"
   ]
  },
  {
   "cell_type": "code",
   "execution_count": 6,
   "id": "e2b00551-e7dc-4f25-acc7-b0209b0a199a",
   "metadata": {},
   "outputs": [
    {
     "name": "stdin",
     "output_type": "stream",
     "text": [
      " 2\n",
      " 3\n"
     ]
    },
    {
     "data": {
      "text/plain": [
       "'3'"
      ]
     },
     "execution_count": 6,
     "metadata": {},
     "output_type": "execute_result"
    }
   ],
   "source": [
    "input( )\n",
    "input( )# lastest value is output"
   ]
  },
  {
   "cell_type": "code",
   "execution_count": 7,
   "id": "a947f546-0fd4-4480-b154-0789f294567d",
   "metadata": {},
   "outputs": [
    {
     "name": "stdin",
     "output_type": "stream",
     "text": [
      "enter the number1: 10\n",
      "enter the number2: 20\n",
      "enter the number3: 30\n"
     ]
    },
    {
     "data": {
      "text/plain": [
       "'30'"
      ]
     },
     "execution_count": 7,
     "metadata": {},
     "output_type": "execute_result"
    }
   ],
   "source": [
    "input('enter the number1:')\n",
    "input('enter the number2:')\n",
    "input('enter the number3:')\n"
   ]
  },
  {
   "cell_type": "code",
   "execution_count": 8,
   "id": "4dd276de-a923-46d8-8d96-7127a4de0850",
   "metadata": {},
   "outputs": [
    {
     "name": "stdin",
     "output_type": "stream",
     "text": [
      "enter the number1: 1\n",
      "enter the number2: 2\n"
     ]
    },
    {
     "data": {
      "text/plain": [
       "'2'"
      ]
     },
     "execution_count": 8,
     "metadata": {},
     "output_type": "execute_result"
    }
   ],
   "source": [
    "num1=input('enter the number1:')\n",
    "input('enter the number2:')"
   ]
  },
  {
   "cell_type": "code",
   "execution_count": 9,
   "id": "a6f219b0-8ed8-41f5-b6a1-24c57a175037",
   "metadata": {},
   "outputs": [
    {
     "data": {
      "text/plain": [
       "'1'"
      ]
     },
     "execution_count": 9,
     "metadata": {},
     "output_type": "execute_result"
    }
   ],
   "source": [
    "num1\n"
   ]
  },
  {
   "cell_type": "markdown",
   "id": "25880a49-3f2b-4041-978c-51633fc5dc1c",
   "metadata": {},
   "source": [
    "**note**"
   ]
  },
  {
   "cell_type": "markdown",
   "id": "77d226dd-9573-48e3-8c89-519680e64140",
   "metadata": {},
   "source": [
    "- input always give the string data type only\n",
    "- in order to perform maths calculator,we need to convert into numerical format i.e. int or float"
   ]
  },
  {
   "cell_type": "code",
   "execution_count": 11,
   "id": "2cdd1243-3afc-4a74-a3fc-5ecbb40dd294",
   "metadata": {},
   "outputs": [
    {
     "name": "stdin",
     "output_type": "stream",
     "text": [
      " 100\n"
     ]
    },
    {
     "data": {
      "text/plain": [
       "'100'"
      ]
     },
     "execution_count": 11,
     "metadata": {},
     "output_type": "execute_result"
    }
   ],
   "source": [
    "input()\n"
   ]
  },
  {
   "cell_type": "code",
   "execution_count": 12,
   "id": "ceabdea3-0cf8-4a26-999f-20b8ece6a41d",
   "metadata": {},
   "outputs": [
    {
     "name": "stdin",
     "output_type": "stream",
     "text": [
      "enter the number2: 200\n"
     ]
    },
    {
     "data": {
      "text/plain": [
       "'200'"
      ]
     },
     "execution_count": 12,
     "metadata": {},
     "output_type": "execute_result"
    }
   ],
   "source": [
    "input('enter the number2:')"
   ]
  },
  {
   "cell_type": "code",
   "execution_count": 13,
   "id": "08e1779d-aa7a-42af-9b5b-119289d5b111",
   "metadata": {},
   "outputs": [
    {
     "name": "stdin",
     "output_type": "stream",
     "text": [
      "enter the number2: 200\n"
     ]
    }
   ],
   "source": [
    "a=input('enter the number2:')"
   ]
  },
  {
   "cell_type": "code",
   "execution_count": 14,
   "id": "f97343f1-e1ce-4c59-817f-cdcb1a7d1ae9",
   "metadata": {},
   "outputs": [
    {
     "data": {
      "text/plain": [
       "'200'"
      ]
     },
     "execution_count": 14,
     "metadata": {},
     "output_type": "execute_result"
    }
   ],
   "source": [
    "a\n"
   ]
  },
  {
   "cell_type": "code",
   "execution_count": 15,
   "id": "1c0b0d85-0b11-4df2-94dc-e95639bd7bb5",
   "metadata": {},
   "outputs": [
    {
     "name": "stdin",
     "output_type": "stream",
     "text": [
      "enter the number1: 100\n",
      "enter the number2: 200\n"
     ]
    },
    {
     "data": {
      "text/plain": [
       "'100200'"
      ]
     },
     "execution_count": 15,
     "metadata": {},
     "output_type": "execute_result"
    }
   ],
   "source": [
    "num1=input('enter the number1:')\n",
    "num2=input('enter the number2:')\n",
    "num1+num2"
   ]
  },
  {
   "cell_type": "code",
   "execution_count": 16,
   "id": "f3ac423a-17db-4470-a1f2-43f285d28ffb",
   "metadata": {},
   "outputs": [
    {
     "name": "stdin",
     "output_type": "stream",
     "text": [
      "enter the number1: 100\n",
      "enter the number2: 200\n"
     ]
    },
    {
     "data": {
      "text/plain": [
       "300"
      ]
     },
     "execution_count": 16,
     "metadata": {},
     "output_type": "execute_result"
    }
   ],
   "source": [
    "num1=int(input('enter the number1:'))\n",
    "num2=int(input('enter the number2:'))\n",
    "num1+num2"
   ]
  },
  {
   "cell_type": "code",
   "execution_count": 17,
   "id": "d2162949-3bc9-40db-93d4-04bde6bdbc5b",
   "metadata": {},
   "outputs": [
    {
     "name": "stdin",
     "output_type": "stream",
     "text": [
      "enter the number1: 100\n",
      "enter the number2: 200\n"
     ]
    },
    {
     "name": "stdout",
     "output_type": "stream",
     "text": [
      "the addition of 100 and 200 is 300\n"
     ]
    }
   ],
   "source": [
    "num1=int(input('enter the number1:'))\n",
    "num2=int(input('enter the number2:'))\n",
    "add=num1+num2\n",
    "print(f\"the addition of {num1} and {num2} is {add}\")"
   ]
  },
  {
   "cell_type": "code",
   "execution_count": 18,
   "id": "1d69c47c-c528-476e-9c12-1974f8907d06",
   "metadata": {},
   "outputs": [
    {
     "name": "stdin",
     "output_type": "stream",
     "text": [
      "enter the number1: 100\n",
      "enter the number2: 100\n"
     ]
    },
    {
     "data": {
      "text/plain": [
       "200"
      ]
     },
     "execution_count": 18,
     "metadata": {},
     "output_type": "execute_result"
    }
   ],
   "source": [
    "num1=(input('enter the number1:'))\n",
    "num2=(input('enter the number2:'))\n",
    "int(num1)+int(num2)\n"
   ]
  },
  {
   "cell_type": "markdown",
   "id": "996725df-d3b1-4078-bd8b-0d5bb55b7cce",
   "metadata": {},
   "source": [
    "$eval$"
   ]
  },
  {
   "cell_type": "markdown",
   "id": "22bcf23b-7576-415d-886d-e0ae6d681919",
   "metadata": {},
   "source": [
    "- eval means evaluate\n",
    "- eval will take the what ever the number,eval will convert to corresponding data type"
   ]
  },
  {
   "cell_type": "code",
   "execution_count": 21,
   "id": "0f94be40-4f68-4ba0-b8b2-935d6a999559",
   "metadata": {},
   "outputs": [
    {
     "name": "stdin",
     "output_type": "stream",
     "text": [
      "enter the number1: 100.4\n",
      "enter the number2: 100.5\n"
     ]
    },
    {
     "name": "stdout",
     "output_type": "stream",
     "text": [
      "the addition of 100.4 and 100.5 is 200.9\n"
     ]
    }
   ],
   "source": [
    "num1=eval(input('enter the number1:'))\n",
    "num2=eval(input('enter the number2:'))\n",
    "add=num1+num2\n",
    "print(f\"the addition of {num1} and {num2} is {add}\")\n"
   ]
  },
  {
   "cell_type": "code",
   "execution_count": null,
   "id": "db8477dd-9747-4e7f-881f-fed064c087b6",
   "metadata": {},
   "outputs": [],
   "source": [
    "\n"
   ]
  },
  {
   "cell_type": "code",
   "execution_count": null,
   "id": "a8e2f43d-0b67-4ae7-9a73-2018d727f65c",
   "metadata": {},
   "outputs": [],
   "source": []
  }
 ],
 "metadata": {
  "kernelspec": {
   "display_name": "Python 3 (ipykernel)",
   "language": "python",
   "name": "python3"
  },
  "language_info": {
   "codemirror_mode": {
    "name": "ipython",
    "version": 3
   },
   "file_extension": ".py",
   "mimetype": "text/x-python",
   "name": "python",
   "nbconvert_exporter": "python",
   "pygments_lexer": "ipython3",
   "version": "3.11.7"
  }
 },
 "nbformat": 4,
 "nbformat_minor": 5
}
